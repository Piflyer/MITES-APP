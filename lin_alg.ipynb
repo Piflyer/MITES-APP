{
 "cells": [
  {
   "cell_type": "code",
   "execution_count": 2,
   "metadata": {},
   "outputs": [],
   "source": [
    "import numpy as np\n",
    "from scipy import linalg"
   ]
  },
  {
   "cell_type": "code",
   "execution_count": 10,
   "metadata": {},
   "outputs": [],
   "source": [
    "A = np.array([\n",
    "    [4, -1, 1],\n",
    "    [6, -2, 1],\n",
    "    [8, -8, 1],\n",
    "    [5, -9, 1],\n",
    "    [2, -10, 1],\n",
    "    [0, -7, 1],\n",
    "    [2, -5, 1]\n",
    "])\n",
    "B = np.array([4.125, 10, 32, 26.5, 26, 12.25, 7.25])"
   ]
  },
  {
   "cell_type": "code",
   "execution_count": 13,
   "metadata": {},
   "outputs": [
    {
     "name": "stderr",
     "output_type": "stream",
     "text": [
      "/var/folders/qw/5rcwl4d96zvcq7zxv7fzt3m80000gn/T/ipykernel_11586/844213474.py:1: FutureWarning: `rcond` parameter will change to the default of machine precision times ``max(M, N)`` where M and N are the input matrix dimensions.\n",
      "To use the future default and silence this warning we advise to pass `rcond=None`, to keep using the old, explicitly pass `rcond=-1`.\n",
      "  c1, c2, c3 = np.linalg.lstsq(A, B)[0]\n"
     ]
    }
   ],
   "source": [
    "c1, c2, c3 = np.linalg.lstsq(A, B)[0]"
   ]
  },
  {
   "cell_type": "code",
   "execution_count": 14,
   "metadata": {},
   "outputs": [
    {
     "data": {
      "text/plain": [
       "(2.139810240287448, -2.872967662250169, -8.616359757466885)"
      ]
     },
     "execution_count": 14,
     "metadata": {},
     "output_type": "execute_result"
    }
   ],
   "source": [
    "c1, c2, c3"
   ]
  },
  {
   "cell_type": "code",
   "execution_count": 15,
   "metadata": {},
   "outputs": [
    {
     "data": {
      "text/plain": [
       "2.053380455567682"
      ]
     },
     "execution_count": 15,
     "metadata": {},
     "output_type": "execute_result"
    }
   ],
   "source": [
    "np.sqrt(c1**2 + c2**2 +c3)"
   ]
  },
  {
   "cell_type": "code",
   "execution_count": 7,
   "metadata": {},
   "outputs": [
    {
     "data": {
      "text/plain": [
       "array([  5, -10])"
      ]
     },
     "execution_count": 7,
     "metadata": {},
     "output_type": "execute_result"
    }
   ],
   "source": [
    "np.matmul(A.T, B.T)"
   ]
  },
  {
   "cell_type": "code",
   "execution_count": 20,
   "metadata": {},
   "outputs": [],
   "source": [
    "def GramSchmidt(A):\n",
    "    M = A.shape[0]\n",
    "    N = A.shape[1]\n",
    "    assert(M >= N)\n",
    "    Q = np.zeros((M, N))\n",
    "    for k in range(0, N):\n",
    "        Q[:, k] = A[:, k]\n",
    "        for j in range(0, k):\n",
    "            Q[:, k] -= np.dot(Q[:, j], A[:, k]) * Q[:, j]\n",
    "        Q[:, k] /= linalg.norm(Q[:, k])\n",
    "    return Q"
   ]
  },
  {
   "cell_type": "code",
   "execution_count": 24,
   "metadata": {},
   "outputs": [],
   "source": [
    "A = np.zeros((4,4))\n",
    "A[:,0] = [1, -1, 1, -1]\n",
    "A[:,1] = [1,1,3,-1]\n",
    "A[:,2] = [-3,7,1,3]\n",
    "A[:,3] = [0,0,0,1]"
   ]
  },
  {
   "cell_type": "code",
   "execution_count": 25,
   "metadata": {},
   "outputs": [
    {
     "data": {
      "text/plain": [
       "array([[ 1.,  1., -3.,  0.],\n",
       "       [-1.,  1.,  7.,  0.],\n",
       "       [ 1.,  3.,  1.,  0.],\n",
       "       [-1., -1.,  3.,  1.]])"
      ]
     },
     "execution_count": 25,
     "metadata": {},
     "output_type": "execute_result"
    }
   ],
   "source": [
    "A"
   ]
  },
  {
   "cell_type": "code",
   "execution_count": 27,
   "metadata": {},
   "outputs": [
    {
     "name": "stdout",
     "output_type": "stream",
     "text": [
      "[[ 0.5         0.          0.          0.28867513]\n",
      " [-0.5         0.70710678  0.70710678 -0.28867513]\n",
      " [ 0.5         0.70710678  0.70710678  0.28867513]\n",
      " [-0.5         0.          0.          0.8660254 ]]\n"
     ]
    }
   ],
   "source": [
    "Q = GramSchmidt(A)\n",
    "print(Q)"
   ]
  },
  {
   "cell_type": "code",
   "execution_count": 31,
   "metadata": {},
   "outputs": [
    {
     "data": {
      "text/plain": [
       "0.2886751345948129"
      ]
     },
     "execution_count": 31,
     "metadata": {},
     "output_type": "execute_result"
    }
   ],
   "source": [
    "1/np.sqrt(12)"
   ]
  }
 ],
 "metadata": {
  "kernelspec": {
   "display_name": "bustrack",
   "language": "python",
   "name": "python3"
  },
  "language_info": {
   "codemirror_mode": {
    "name": "ipython",
    "version": 3
   },
   "file_extension": ".py",
   "mimetype": "text/x-python",
   "name": "python",
   "nbconvert_exporter": "python",
   "pygments_lexer": "ipython3",
   "version": "3.11.8"
  }
 },
 "nbformat": 4,
 "nbformat_minor": 2
}
